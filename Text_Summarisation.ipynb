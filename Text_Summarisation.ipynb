{
  "nbformat": 4,
  "nbformat_minor": 0,
  "metadata": {
    "colab": {
      "provenance": [],
      "authorship_tag": "ABX9TyNDbBETFAOAvDwAuNTLSDjE",
      "include_colab_link": true
    },
    "kernelspec": {
      "name": "python3",
      "display_name": "Python 3"
    },
    "language_info": {
      "name": "python"
    }
  },
  "cells": [
    {
      "cell_type": "markdown",
      "metadata": {
        "id": "view-in-github",
        "colab_type": "text"
      },
      "source": [
        "<a href=\"https://colab.research.google.com/github/Puneetgupta2301/Text-Summarisation/blob/main/Text_Summarisation.ipynb\" target=\"_parent\"><img src=\"https://colab.research.google.com/assets/colab-badge.svg\" alt=\"Open In Colab\"/></a>"
      ]
    },
    {
      "cell_type": "markdown",
      "source": [
        "Install Dependencies\n"
      ],
      "metadata": {
        "id": "5z1bB-fgzCjo"
      }
    },
    {
      "cell_type": "code",
      "source": [
        "#installing pytorch\n",
        "! pip3 install torch torchvision torchaudio --index-url https://download.pytorch.org/whl/cu121\n",
        "\n"
      ],
      "metadata": {
        "id": "Uqc_bM1G7Nk-"
      },
      "execution_count": null,
      "outputs": []
    },
    {
      "cell_type": "code",
      "source": [
        "pip install transformers"
      ],
      "metadata": {
        "id": "2HIEvj137uRY"
      },
      "execution_count": null,
      "outputs": []
    },
    {
      "cell_type": "markdown",
      "source": [
        "Load Transformers"
      ],
      "metadata": {
        "id": "QUN683DgzLba"
      }
    },
    {
      "cell_type": "code",
      "source": [
        "from transformers import  PegasusForConditionalGeneration , PegasusTokenizer"
      ],
      "metadata": {
        "id": "29Rbuaj8zNzj"
      },
      "execution_count": 3,
      "outputs": []
    },
    {
      "cell_type": "code",
      "source": [
        "#Load a Token\n",
        "tokeniser=PegasusTokenizer.from_pretrained(\"google/pegasus-xsum\")"
      ],
      "metadata": {
        "id": "SC4nObxF0t9q"
      },
      "execution_count": 16,
      "outputs": []
    },
    {
      "cell_type": "code",
      "source": [
        "#load a model\n",
        "model=PegasusForConditionalGeneration.from_pretrained(\"google/pegasus-xsum\")"
      ],
      "metadata": {
        "colab": {
          "base_uri": "https://localhost:8080/"
        },
        "id": "qSmSp5aw1H_u",
        "outputId": "fc5fd577-c0bd-4adb-f9aa-3ed607ba5f24"
      },
      "execution_count": 22,
      "outputs": [
        {
          "output_type": "stream",
          "name": "stderr",
          "text": [
            "Some weights of PegasusForConditionalGeneration were not initialized from the model checkpoint at google/pegasus-xsum and are newly initialized: ['model.decoder.embed_positions.weight', 'model.encoder.embed_positions.weight']\n",
            "You should probably TRAIN this model on a down-stream task to be able to use it for predictions and inference.\n"
          ]
        }
      ]
    },
    {
      "cell_type": "markdown",
      "source": [
        "Perform Abstractive Summarisation\n"
      ],
      "metadata": {
        "id": "CuHRFHmj1jNl"
      }
    },
    {
      "cell_type": "code",
      "source": [
        "article =  \"\"\"\n",
        "India, officially the Republic of India (ISO: Bhārat Gaṇarājya),[22] is a country in South Asia. It is the seventh-largest country by area; the most populous country as of June 2023;[23][24] and from the time of its independence in 1947, the world's most populous democracy.[25][26][27] Bounded by the Indian Ocean on the south, the Arabian Sea on the southwest, and the Bay of Bengal on the southeast, it shares land borders with Pakistan to the west;[j] China, Nepal, and Bhutan to the north; and Bangladesh and Myanmar[k] to the east. In the Indian Ocean, India is in the vicinity of Sri Lanka and the Maldives; its Andaman and Nicobar Islands share a maritime border with Thailand, Myanmar, and Indonesia.\n",
        "\n",
        "Modern humans arrived on the Indian subcontinent from Africa no later than 55,000 years ago.[28][29][30] Their long occupation, initially in varying forms of isolation as hunter-gatherers, has made the region highly diverse, second only to Africa in human genetic diversity.[31] Settled life emerged on the subcontinent in the western margins of the Indus river basin 9,000 years ago, evolving gradually into the Indus Valley Civilisation of the third millennium BCE.[32] By 1200 BCE, an archaic form of Sanskrit, an Indo-European language, had diffused into India from the northwest.[33][34] Its evidence today is found in the hymns of the Rigveda. Preserved by an oral tradition that was resolutely vigilant, the Rigveda records the dawning of Hinduism in India.[35] The Dravidian languages of India were supplanted in the northern and western regions.[36] By 400 BCE, stratification and exclusion by caste had emerged within Hinduism,[37] and Buddhism and Jainism had arisen, proclaiming social orders unlinked to heredity.[38] Early political consolidations gave rise to the loose-knit Maurya and Gupta Empires based in the Ganges Basin.[39] Their collective era was suffused with wide-ranging creativity,[40] but also marked by the declining status of women,[41] and the incorporation of untouchability into an organised system of belief.[l][42] In South India, the Middle kingdoms exported Dravidian-languages scripts and religious cultures to the kingdoms of Southeast Asia.[43]\n",
        "\n",
        "In the early medieval era, Christianity, Islam, Judaism, and Zoroastrianism became established on India's southern and western coasts.[44] Muslim armies from Central Asia intermittently overran India's northern plains,[45] eventually founding the Delhi Sultanate, and drawing northern India into the cosmopolitan networks of medieval Islam.[46] In the 15th century, the Vijayanagara Empire created a long-lasting composite Hindu culture in south India.[47] In the Punjab, Sikhism emerged, rejecting institutionalised religion.[48] The Mughal Empire, in 1526, ushered in two centuries of relative peace,[49] leaving a legacy of luminous architecture.[m][50] Gradually expanding rule of the British East India Company followed, turning India into a colonial economy, but also consolidating its sovereignty.[51] British Crown rule began in 1858. The rights promised to Indians were granted slowly,[52][53] but technological changes were introduced, and modern ideas of education and the public life took root.[54] A pioneering and influential nationalist movement emerged, which was noted for nonviolent resistance and became the major factor in ending British rule.[55][56] In 1947 the British Indian Empire was partitioned into two independent dominions,[57][58][59][60] a Hindu-majority Dominion of India and a Muslim-majority Dominion of Pakistan, amid large-scale loss of life and an unprecedented migration.[61]\n",
        "\n",
        "India has been a federal republic since 1950, governed through a democratic parliamentary system. It is a pluralistic, multilingual and multi-ethnic society. India's population grew from 361 million in 1951 to almost 1.4 billion in 2022.[62] During the same time, its nominal per capita income increased from US$64 annually to US$2,601, and its literacy rate from 16.6% to 74%. From being a comparatively destitute country in 1951,[63] India has become a fast-growing major economy and a hub for information technology services, with an expanding middle class.[64] India has a space programme with several planned or completed extraterrestrial missions. Indian movies, music, and spiritual teachings play an increasing role in global culture.[65] India has substantially reduced its rate of poverty, though at the cost of increasing economic inequality.[66] India is a nuclear-weapon state, which ranks high in military expenditure. It has disputes over Kashmir with its neighbours, Pakistan and China, unresolved since the mid-20th century.[67] Among the socio-economic challenges India faces are gender inequality, child malnutrition,[68] and rising levels of air pollution.[69] India's land is megadiverse, with four biodiversity hotspots.[70] Its forest cover comprises 21.7% of its area.[71] India's wildlife, which has traditionally been viewed with tolerance in India's culture,[72] is supported among these forests, and elsewhere, in protected habitats.\n",
        "\n",
        "\n",
        "\n",
        "\"\"\""
      ],
      "metadata": {
        "id": "twW-52Uo1nD2"
      },
      "execution_count": 28,
      "outputs": []
    },
    {
      "cell_type": "code",
      "source": [
        "tokens = tokeniser(article, truncation=True, padding=\"longest\", return_tensors=\"pt\")\n",
        "tokens"
      ],
      "metadata": {
        "colab": {
          "base_uri": "https://localhost:8080/"
        },
        "id": "XZwFUsOU2GkL",
        "outputId": "1d8ec0e1-1fcc-4b31-b468-aa56e7534a4c"
      },
      "execution_count": 29,
      "outputs": [
        {
          "output_type": "execute_result",
          "data": {
            "text/plain": [
              "{'input_ids': tensor([[ 1144,   108,  4551,   109,  4498,   113,  1144,   143, 28501,   151,\n",
              "         59349,   105, 13074,  8501,   105,  2915,   105,  3566,  4518,   312,\n",
              "          4101,  8101,  1100,   117,   114,   531,   115,   793,  2661,   107,\n",
              "           168,   117,   109,  8850,   121, 22504,   531,   141,   345,   206,\n",
              "           109,   205, 34982,   531,   130,   113,  1185, 30249,   206,  4101,\n",
              "          8791, 32887,  6304,  1100,   111,   135,   109,   166,   113,   203,\n",
              "          6846,   115, 18880,   108,   109,   278,   131,   116,   205, 34982,\n",
              "          8075,   107,  4101,  5247, 32887,  9965, 32887,  9613,  1100,   110,\n",
              "         77750,   141,   109,  2128,  5353,   124,   109,  2363,   108,   109,\n",
              "         22835,  3094,   124,   109, 14961,   108,   111,   109,  2016,   113,\n",
              "         19655,   124,   109, 16321,   108,   126,  2853,  1241,  8257,   122,\n",
              "          4856,   112,   109,  3381,   206,  4101,  3566,  1100,  1224,   108,\n",
              "         10177,   108,   111, 29331,   112,   109,  2523,   206,   111, 10631,\n",
              "           111, 14838,  4101,  1052,  1100,   112,   109,  3758,   107,   222,\n",
              "           109,  2128,  5353,   108,  1144,   117,   115,   109, 15081,   113,\n",
              "          6746, 10773,   111,   109, 29477,   206,   203, 61044,   111, 93082,\n",
              "          6561,   537,   114, 14869,  3660,   122,  6398,   108, 14838,   108,\n",
              "           111,  7226,   107,  4014,  4095,  2783,   124,   109,  2128, 60093,\n",
              "           135,  1922,   220,   678,   197, 64549,   231,   754,   107,  4101,\n",
              "          9169, 32887, 10340, 32887,  4311,  1100,  2310,   300,  9807,   108,\n",
              "          4471,   115,  7775,  1878,   113, 10530,   130, 16619,   121, 84482,\n",
              "           116,   108,   148,   266,   109,  1322,   987,  2766,   108,   453,\n",
              "           209,   112,  1922,   115,   883,  6761,  4357,   107,  4101, 10822,\n",
              "          1100, 56085,   252,   271,  7677,   124,   109, 60093,   115,   109,\n",
              "          4874, 11691,   113,   109, 62200,  2984, 13640, 34245,   231,   754,\n",
              "           108,  8614,  6861,   190,   109, 62200,  2169,  5350,  6894,   113,\n",
              "           109,   776, 33036, 46364,   107,  4101,  6695,  1100,  1060, 13634,\n",
              "         46364,   108,   142, 47761,   515,   113, 31747,   108,   142, 29504,\n",
              "           121, 17859,  1261,   108,   196, 70976,   190,  1144,   135,   109,\n",
              "         15550,   107,  4101,  9773, 32887, 12365,  1100,  3096,  1812,   380,\n",
              "           117,   374,   115,   109, 33464,   113,   109, 27955, 66018,   107,\n",
              "         24162,   252,   141,   142,  4868,  3636,   120,   140, 86121, 24915,\n",
              "           108,   109, 27955, 66018,  2125,   109, 13675,   273,   113, 46089,\n",
              "           115,  1144,   107,  4101,  7393,  1100,   139, 82633,  3262,  4482,\n",
              "           113,  1144,   195, 84727,   115,   109,  4905,   111,  4874,  4000,\n",
              "           107,  4101,  9368,  1100,  1060,  4087, 46364,   108, 77817,   111,\n",
              "         15925,   141, 27320,   196,  7677,   373, 46089,   108,  4101, 13185,\n",
              "          1100,   111, 22970,   111, 32045,  2675,   196, 40811,   108, 46103,\n",
              "           525,  2869,  1596, 27041,   112, 95307,   107,  4101, 12166,  1100,\n",
              "          6236,  1488,  8438,   116,  1422,  2423,   112,   109,  4667,   121,\n",
              "         23623, 82168,   304,   111, 27258,  7292,   116,   451,   115,   109,\n",
              "         68688, 15524,   107,  4101, 11349,  1100,  2310,  5923,  4065,   140,\n",
              "           110,   116, 11527, 10642,   122,   827,   121, 20664,  4039,   108,\n",
              "          4101,  5179,  1100,   155,   163,  4246,   141,   109, 14935,  1932,\n",
              "           113,   652,   108,  4101, 13597,  1100,   111,   109, 25129,   113,\n",
              "          1596, 13929,  5492,   190,   142,  7219,   327,   113,  4936,   107,\n",
              "          4101,  1191, 32887, 10711,  1100,   222,   793,  1144,   108,   109,\n",
              "          3396, 42288, 16032, 82633,  3262,   121, 16798,   116, 10556,   111,\n",
              "          3503,  6223,   112,   109, 42288,   113,  9404,  2661,   107,  4101,\n",
              "         11988,  1100,   222,   109,   616, 10356,  4065,   108, 11681,   108,\n",
              "          9348,   108, 26850,   108,   111,   110, 95531,  2675,  1257,  1614,\n",
              "           124,     1]]), 'attention_mask': tensor([[1, 1, 1, 1, 1, 1, 1, 1, 1, 1, 1, 1, 1, 1, 1, 1, 1, 1, 1, 1, 1, 1, 1, 1,\n",
              "         1, 1, 1, 1, 1, 1, 1, 1, 1, 1, 1, 1, 1, 1, 1, 1, 1, 1, 1, 1, 1, 1, 1, 1,\n",
              "         1, 1, 1, 1, 1, 1, 1, 1, 1, 1, 1, 1, 1, 1, 1, 1, 1, 1, 1, 1, 1, 1, 1, 1,\n",
              "         1, 1, 1, 1, 1, 1, 1, 1, 1, 1, 1, 1, 1, 1, 1, 1, 1, 1, 1, 1, 1, 1, 1, 1,\n",
              "         1, 1, 1, 1, 1, 1, 1, 1, 1, 1, 1, 1, 1, 1, 1, 1, 1, 1, 1, 1, 1, 1, 1, 1,\n",
              "         1, 1, 1, 1, 1, 1, 1, 1, 1, 1, 1, 1, 1, 1, 1, 1, 1, 1, 1, 1, 1, 1, 1, 1,\n",
              "         1, 1, 1, 1, 1, 1, 1, 1, 1, 1, 1, 1, 1, 1, 1, 1, 1, 1, 1, 1, 1, 1, 1, 1,\n",
              "         1, 1, 1, 1, 1, 1, 1, 1, 1, 1, 1, 1, 1, 1, 1, 1, 1, 1, 1, 1, 1, 1, 1, 1,\n",
              "         1, 1, 1, 1, 1, 1, 1, 1, 1, 1, 1, 1, 1, 1, 1, 1, 1, 1, 1, 1, 1, 1, 1, 1,\n",
              "         1, 1, 1, 1, 1, 1, 1, 1, 1, 1, 1, 1, 1, 1, 1, 1, 1, 1, 1, 1, 1, 1, 1, 1,\n",
              "         1, 1, 1, 1, 1, 1, 1, 1, 1, 1, 1, 1, 1, 1, 1, 1, 1, 1, 1, 1, 1, 1, 1, 1,\n",
              "         1, 1, 1, 1, 1, 1, 1, 1, 1, 1, 1, 1, 1, 1, 1, 1, 1, 1, 1, 1, 1, 1, 1, 1,\n",
              "         1, 1, 1, 1, 1, 1, 1, 1, 1, 1, 1, 1, 1, 1, 1, 1, 1, 1, 1, 1, 1, 1, 1, 1,\n",
              "         1, 1, 1, 1, 1, 1, 1, 1, 1, 1, 1, 1, 1, 1, 1, 1, 1, 1, 1, 1, 1, 1, 1, 1,\n",
              "         1, 1, 1, 1, 1, 1, 1, 1, 1, 1, 1, 1, 1, 1, 1, 1, 1, 1, 1, 1, 1, 1, 1, 1,\n",
              "         1, 1, 1, 1, 1, 1, 1, 1, 1, 1, 1, 1, 1, 1, 1, 1, 1, 1, 1, 1, 1, 1, 1, 1,\n",
              "         1, 1, 1, 1, 1, 1, 1, 1, 1, 1, 1, 1, 1, 1, 1, 1, 1, 1, 1, 1, 1, 1, 1, 1,\n",
              "         1, 1, 1, 1, 1, 1, 1, 1, 1, 1, 1, 1, 1, 1, 1, 1, 1, 1, 1, 1, 1, 1, 1, 1,\n",
              "         1, 1, 1, 1, 1, 1, 1, 1, 1, 1, 1, 1, 1, 1, 1, 1, 1, 1, 1, 1, 1, 1, 1, 1,\n",
              "         1, 1, 1, 1, 1, 1, 1, 1, 1, 1, 1, 1, 1, 1, 1, 1, 1, 1, 1, 1, 1, 1, 1, 1,\n",
              "         1, 1, 1, 1, 1, 1, 1, 1, 1, 1, 1, 1, 1, 1, 1, 1, 1, 1, 1, 1, 1, 1, 1, 1,\n",
              "         1, 1, 1, 1, 1, 1, 1, 1]])}"
            ]
          },
          "metadata": {},
          "execution_count": 29
        }
      ]
    },
    {
      "cell_type": "code",
      "source": [
        "summary= model.generate(**tokens)"
      ],
      "metadata": {
        "id": "RjxSK99eVgMV"
      },
      "execution_count": 30,
      "outputs": []
    },
    {
      "cell_type": "code",
      "source": [
        "summary"
      ],
      "metadata": {
        "colab": {
          "base_uri": "https://localhost:8080/"
        },
        "id": "6p7t_yc2Y2zH",
        "outputId": "8f5ff3a8-470e-4ffc-9468-002987ae8a74"
      },
      "execution_count": 31,
      "outputs": [
        {
          "output_type": "execute_result",
          "data": {
            "text/plain": [
              "tensor([[    0,   202, 63740,   113,   662,   702,   151,     1]])"
            ]
          },
          "metadata": {},
          "execution_count": 31
        }
      ]
    },
    {
      "cell_type": "code",
      "source": [
        "#decode these tokens\n",
        "tokeniser.decode(summary[0])"
      ],
      "metadata": {
        "colab": {
          "base_uri": "https://localhost:8080/",
          "height": 36
        },
        "id": "0wGLyP_jY7Mr",
        "outputId": "b5624f41-ae90-4660-aa58-013bd03a4f7c"
      },
      "execution_count": 37,
      "outputs": [
        {
          "output_type": "execute_result",
          "data": {
            "text/plain": [
              "'<pad>A chronology of key events:</s>'"
            ],
            "application/vnd.google.colaboratory.intrinsic+json": {
              "type": "string"
            }
          },
          "metadata": {},
          "execution_count": 37
        }
      ]
    }
  ]
}